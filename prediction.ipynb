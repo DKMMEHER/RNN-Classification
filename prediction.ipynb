{
 "cells": [
  {
   "cell_type": "code",
   "execution_count": 1,
   "metadata": {},
   "outputs": [],
   "source": [
    "# Step 1: Import Libraries and Load the Model\n",
    "import numpy as np\n",
    "import tensorflow as tf\n",
    "from tensorflow.keras.datasets import imdb\n",
    "from tensorflow.keras.preprocessing import sequence\n",
    "from tensorflow.keras.models import load_model"
   ]
  },
  {
   "cell_type": "code",
   "execution_count": 2,
   "metadata": {},
   "outputs": [],
   "source": [
    "\n",
    "# Load the IMDB dataset word index\n",
    "word_index = imdb.get_word_index()\n",
    "reverse_word_index = {value: key for key, value in word_index.items()}"
   ]
  },
  {
   "cell_type": "code",
   "execution_count": 3,
   "metadata": {},
   "outputs": [
    {
     "name": "stderr",
     "output_type": "stream",
     "text": [
      "WARNING:absl:Compiled the loaded model, but the compiled metrics have yet to be built. `model.compile_metrics` will be empty until you train or evaluate the model.\n"
     ]
    },
    {
     "data": {
      "text/html": [
       "<pre style=\"white-space:pre;overflow-x:auto;line-height:normal;font-family:Menlo,'DejaVu Sans Mono',consolas,'Courier New',monospace\"><span style=\"font-weight: bold\">Model: \"sequential_1\"</span>\n",
       "</pre>\n"
      ],
      "text/plain": [
       "\u001b[1mModel: \"sequential_1\"\u001b[0m\n"
      ]
     },
     "metadata": {},
     "output_type": "display_data"
    },
    {
     "data": {
      "text/html": [
       "<pre style=\"white-space:pre;overflow-x:auto;line-height:normal;font-family:Menlo,'DejaVu Sans Mono',consolas,'Courier New',monospace\">┏━━━━━━━━━━━━━━━━━━━━━━━━━━━━━━━━━┳━━━━━━━━━━━━━━━━━━━━━━━━┳━━━━━━━━━━━━━━━┓\n",
       "┃<span style=\"font-weight: bold\"> Layer (type)                    </span>┃<span style=\"font-weight: bold\"> Output Shape           </span>┃<span style=\"font-weight: bold\">       Param # </span>┃\n",
       "┡━━━━━━━━━━━━━━━━━━━━━━━━━━━━━━━━━╇━━━━━━━━━━━━━━━━━━━━━━━━╇━━━━━━━━━━━━━━━┩\n",
       "│ embedding_1 (<span style=\"color: #0087ff; text-decoration-color: #0087ff\">Embedding</span>)         │ (<span style=\"color: #00af00; text-decoration-color: #00af00\">32</span>, <span style=\"color: #00af00; text-decoration-color: #00af00\">500</span>, <span style=\"color: #00af00; text-decoration-color: #00af00\">128</span>)         │     <span style=\"color: #00af00; text-decoration-color: #00af00\">1,280,000</span> │\n",
       "├─────────────────────────────────┼────────────────────────┼───────────────┤\n",
       "│ simple_rnn_1 (<span style=\"color: #0087ff; text-decoration-color: #0087ff\">SimpleRNN</span>)        │ (<span style=\"color: #00af00; text-decoration-color: #00af00\">32</span>, <span style=\"color: #00af00; text-decoration-color: #00af00\">128</span>)              │        <span style=\"color: #00af00; text-decoration-color: #00af00\">32,896</span> │\n",
       "├─────────────────────────────────┼────────────────────────┼───────────────┤\n",
       "│ dense_1 (<span style=\"color: #0087ff; text-decoration-color: #0087ff\">Dense</span>)                 │ (<span style=\"color: #00af00; text-decoration-color: #00af00\">32</span>, <span style=\"color: #00af00; text-decoration-color: #00af00\">1</span>)                │           <span style=\"color: #00af00; text-decoration-color: #00af00\">129</span> │\n",
       "└─────────────────────────────────┴────────────────────────┴───────────────┘\n",
       "</pre>\n"
      ],
      "text/plain": [
       "┏━━━━━━━━━━━━━━━━━━━━━━━━━━━━━━━━━┳━━━━━━━━━━━━━━━━━━━━━━━━┳━━━━━━━━━━━━━━━┓\n",
       "┃\u001b[1m \u001b[0m\u001b[1mLayer (type)                   \u001b[0m\u001b[1m \u001b[0m┃\u001b[1m \u001b[0m\u001b[1mOutput Shape          \u001b[0m\u001b[1m \u001b[0m┃\u001b[1m \u001b[0m\u001b[1m      Param #\u001b[0m\u001b[1m \u001b[0m┃\n",
       "┡━━━━━━━━━━━━━━━━━━━━━━━━━━━━━━━━━╇━━━━━━━━━━━━━━━━━━━━━━━━╇━━━━━━━━━━━━━━━┩\n",
       "│ embedding_1 (\u001b[38;5;33mEmbedding\u001b[0m)         │ (\u001b[38;5;34m32\u001b[0m, \u001b[38;5;34m500\u001b[0m, \u001b[38;5;34m128\u001b[0m)         │     \u001b[38;5;34m1,280,000\u001b[0m │\n",
       "├─────────────────────────────────┼────────────────────────┼───────────────┤\n",
       "│ simple_rnn_1 (\u001b[38;5;33mSimpleRNN\u001b[0m)        │ (\u001b[38;5;34m32\u001b[0m, \u001b[38;5;34m128\u001b[0m)              │        \u001b[38;5;34m32,896\u001b[0m │\n",
       "├─────────────────────────────────┼────────────────────────┼───────────────┤\n",
       "│ dense_1 (\u001b[38;5;33mDense\u001b[0m)                 │ (\u001b[38;5;34m32\u001b[0m, \u001b[38;5;34m1\u001b[0m)                │           \u001b[38;5;34m129\u001b[0m │\n",
       "└─────────────────────────────────┴────────────────────────┴───────────────┘\n"
      ]
     },
     "metadata": {},
     "output_type": "display_data"
    },
    {
     "data": {
      "text/html": [
       "<pre style=\"white-space:pre;overflow-x:auto;line-height:normal;font-family:Menlo,'DejaVu Sans Mono',consolas,'Courier New',monospace\"><span style=\"font-weight: bold\"> Total params: </span><span style=\"color: #00af00; text-decoration-color: #00af00\">1,313,027</span> (5.01 MB)\n",
       "</pre>\n"
      ],
      "text/plain": [
       "\u001b[1m Total params: \u001b[0m\u001b[38;5;34m1,313,027\u001b[0m (5.01 MB)\n"
      ]
     },
     "metadata": {},
     "output_type": "display_data"
    },
    {
     "data": {
      "text/html": [
       "<pre style=\"white-space:pre;overflow-x:auto;line-height:normal;font-family:Menlo,'DejaVu Sans Mono',consolas,'Courier New',monospace\"><span style=\"font-weight: bold\"> Trainable params: </span><span style=\"color: #00af00; text-decoration-color: #00af00\">1,313,025</span> (5.01 MB)\n",
       "</pre>\n"
      ],
      "text/plain": [
       "\u001b[1m Trainable params: \u001b[0m\u001b[38;5;34m1,313,025\u001b[0m (5.01 MB)\n"
      ]
     },
     "metadata": {},
     "output_type": "display_data"
    },
    {
     "data": {
      "text/html": [
       "<pre style=\"white-space:pre;overflow-x:auto;line-height:normal;font-family:Menlo,'DejaVu Sans Mono',consolas,'Courier New',monospace\"><span style=\"font-weight: bold\"> Non-trainable params: </span><span style=\"color: #00af00; text-decoration-color: #00af00\">0</span> (0.00 B)\n",
       "</pre>\n"
      ],
      "text/plain": [
       "\u001b[1m Non-trainable params: \u001b[0m\u001b[38;5;34m0\u001b[0m (0.00 B)\n"
      ]
     },
     "metadata": {},
     "output_type": "display_data"
    },
    {
     "data": {
      "text/html": [
       "<pre style=\"white-space:pre;overflow-x:auto;line-height:normal;font-family:Menlo,'DejaVu Sans Mono',consolas,'Courier New',monospace\"><span style=\"font-weight: bold\"> Optimizer params: </span><span style=\"color: #00af00; text-decoration-color: #00af00\">2</span> (12.00 B)\n",
       "</pre>\n"
      ],
      "text/plain": [
       "\u001b[1m Optimizer params: \u001b[0m\u001b[38;5;34m2\u001b[0m (12.00 B)\n"
      ]
     },
     "metadata": {},
     "output_type": "display_data"
    }
   ],
   "source": [
    "# Load the pre-trained model with ReLU activation\n",
    "model = load_model('simple_rnn_imdb.h5')\n",
    "model.summary()"
   ]
  },
  {
   "cell_type": "code",
   "execution_count": 4,
   "metadata": {},
   "outputs": [
    {
     "data": {
      "text/plain": [
       "[array([[-0.21009348, -0.24709682,  0.10521568, ..., -0.17991337,\n",
       "          0.01916004, -0.08647399],\n",
       "        [ 0.0088628 , -0.02387256,  0.05161984, ...,  0.05009867,\n",
       "         -0.04127987,  0.03905633],\n",
       "        [-0.12466189, -0.20508122,  0.08196703, ..., -0.22282612,\n",
       "          0.16551527, -0.0213512 ],\n",
       "        ...,\n",
       "        [ 0.0058668 ,  0.03910503,  0.00275393, ..., -0.01441015,\n",
       "          0.00288656, -0.01159455],\n",
       "        [ 0.02161714,  0.01157601, -0.0144193 , ...,  0.01923325,\n",
       "         -0.03226022, -0.01507492],\n",
       "        [-0.012404  , -0.02906283,  0.00727956, ..., -0.05069402,\n",
       "         -0.05265503,  0.00432107]], dtype=float32),\n",
       " array([[ 0.0539327 ,  0.0349065 ,  0.04360514, ...,  0.15044476,\n",
       "         -0.15389541,  0.00272373],\n",
       "        [-0.06442211, -0.08253628, -0.04445675, ...,  0.17487699,\n",
       "         -0.12554711,  0.1558296 ],\n",
       "        [ 0.06920289,  0.04895598,  0.1151076 , ..., -0.07612709,\n",
       "          0.12700279, -0.12832668],\n",
       "        ...,\n",
       "        [ 0.09794821,  0.00422465, -0.08900189, ..., -0.01658944,\n",
       "         -0.12275352,  0.15521674],\n",
       "        [-0.17754206, -0.08842476,  0.02541811, ...,  0.1255669 ,\n",
       "          0.15582308,  0.07823627],\n",
       "        [ 0.09788079, -0.06995463, -0.0994924 , ...,  0.10287988,\n",
       "         -0.20152442,  0.08769021]], dtype=float32),\n",
       " array([[-0.03438725, -0.03621376, -0.1545305 , ...,  0.06725859,\n",
       "          0.06462217, -0.063391  ],\n",
       "        [-0.07830352, -0.00433037,  0.23818226, ..., -0.0476616 ,\n",
       "         -0.26694492,  0.08930652],\n",
       "        [-0.04735783,  0.11786274, -0.00724759, ..., -0.09040676,\n",
       "         -0.11093677, -0.18096493],\n",
       "        ...,\n",
       "        [ 0.00084061, -0.05567122, -0.09821595, ...,  0.22620922,\n",
       "          0.07763058,  0.07411465],\n",
       "        [-0.04204886, -0.26766852, -0.08825529, ...,  0.11294468,\n",
       "          0.11547557,  0.11243928],\n",
       "        [ 0.09206004, -0.05236522,  0.07727038, ...,  0.05378018,\n",
       "         -0.01221353,  0.01749562]], dtype=float32),\n",
       " array([-0.02142752,  0.01995458,  0.00659771, -0.01776267,  0.00339328,\n",
       "        -0.04299637, -0.0436236 ,  0.01037685, -0.00068796, -0.01805222,\n",
       "        -0.06550514, -0.05480168, -0.02043108, -0.01224923, -0.02290555,\n",
       "         0.01528474,  0.00669039, -0.02475643, -0.03316891, -0.04706631,\n",
       "        -0.02860323, -0.0043082 , -0.02176767, -0.05167586,  0.00243893,\n",
       "         0.01150036, -0.00728787,  0.00989943, -0.02901727, -0.00117903,\n",
       "        -0.02854414,  0.02081876, -0.02660098,  0.00253233, -0.04103227,\n",
       "         0.00048735, -0.02609058, -0.00515457, -0.03081736,  0.00448329,\n",
       "         0.02023863,  0.01516925, -0.01006331, -0.06835552, -0.00718429,\n",
       "        -0.0225205 , -0.02565057, -0.03921773,  0.00222373, -0.02190937,\n",
       "        -0.05349295, -0.01223776, -0.04134521, -0.00954713, -0.01736227,\n",
       "        -0.01672923, -0.00350644, -0.0020283 ,  0.01758244, -0.00938249,\n",
       "        -0.01051432, -0.03060823, -0.03560795, -0.05409999, -0.00673206,\n",
       "         0.00156176,  0.02347545,  0.03419475, -0.02891972, -0.0315805 ,\n",
       "         0.01223485,  0.01597498,  0.01230319, -0.02610934, -0.01679321,\n",
       "        -0.04246175,  0.01486153, -0.04285752,  0.00605404,  0.01115196,\n",
       "         0.01206945, -0.03194679, -0.01350144,  0.00376897, -0.030544  ,\n",
       "        -0.04174289,  0.00752855, -0.02113861, -0.00753889,  0.00130965,\n",
       "         0.01077562, -0.01513781, -0.0065581 , -0.04594221, -0.01678322,\n",
       "        -0.00954615, -0.05962032, -0.02175502, -0.01119677, -0.02431131,\n",
       "        -0.03354065, -0.05101635, -0.02611028, -0.02905004, -0.0310126 ,\n",
       "        -0.04480482, -0.03163819,  0.01424413, -0.01725088, -0.0121512 ,\n",
       "         0.0027552 , -0.01514545, -0.02559593, -0.01412488,  0.01035105,\n",
       "        -0.01529812, -0.00295235, -0.00782339, -0.0256292 ,  0.0317691 ,\n",
       "         0.01643715, -0.00662505,  0.00402168,  0.00904995, -0.00014416,\n",
       "         0.00022948,  0.02298764, -0.01909864], dtype=float32),\n",
       " array([[-0.26502267],\n",
       "        [ 0.07126908],\n",
       "        [ 0.18903272],\n",
       "        [-0.15693247],\n",
       "        [-0.05109129],\n",
       "        [ 0.03302515],\n",
       "        [-0.1445361 ],\n",
       "        [ 0.08190966],\n",
       "        [ 0.13456964],\n",
       "        [-0.09276687],\n",
       "        [ 0.16272531],\n",
       "        [ 0.00454334],\n",
       "        [-0.2589774 ],\n",
       "        [ 0.11996535],\n",
       "        [-0.19555043],\n",
       "        [ 0.11132692],\n",
       "        [ 0.10130009],\n",
       "        [-0.18311882],\n",
       "        [-0.00388491],\n",
       "        [ 0.16261497],\n",
       "        [-0.08762383],\n",
       "        [ 0.15707588],\n",
       "        [-0.04174462],\n",
       "        [ 0.02099987],\n",
       "        [ 0.14691003],\n",
       "        [ 0.19687854],\n",
       "        [ 0.1551411 ],\n",
       "        [-0.226733  ],\n",
       "        [-0.10973623],\n",
       "        [ 0.17264819],\n",
       "        [-0.13509065],\n",
       "        [ 0.09084505],\n",
       "        [-0.18696344],\n",
       "        [ 0.05389564],\n",
       "        [-0.16070192],\n",
       "        [-0.25437847],\n",
       "        [-0.18568857],\n",
       "        [-0.05047961],\n",
       "        [-0.09063105],\n",
       "        [ 0.11556028],\n",
       "        [ 0.07450516],\n",
       "        [ 0.04497548],\n",
       "        [ 0.04544487],\n",
       "        [ 0.00472991],\n",
       "        [-0.23109871],\n",
       "        [-0.20053606],\n",
       "        [-0.18526758],\n",
       "        [-0.09689324],\n",
       "        [ 0.08925091],\n",
       "        [ 0.17654175],\n",
       "        [ 0.08724264],\n",
       "        [ 0.27345416],\n",
       "        [ 0.1591128 ],\n",
       "        [-0.07959012],\n",
       "        [-0.23542255],\n",
       "        [-0.14124681],\n",
       "        [ 0.05510787],\n",
       "        [-0.07588248],\n",
       "        [-0.02553962],\n",
       "        [-0.2315258 ],\n",
       "        [-0.22219719],\n",
       "        [-0.19378348],\n",
       "        [-0.15912414],\n",
       "        [ 0.16017197],\n",
       "        [ 0.20115082],\n",
       "        [ 0.19835828],\n",
       "        [-0.21055652],\n",
       "        [ 0.18449722],\n",
       "        [-0.10065709],\n",
       "        [-0.14579915],\n",
       "        [ 0.01497343],\n",
       "        [ 0.18546087],\n",
       "        [ 0.17847675],\n",
       "        [ 0.00340157],\n",
       "        [-0.27527145],\n",
       "        [-0.06157707],\n",
       "        [-0.1778975 ],\n",
       "        [ 0.0391401 ],\n",
       "        [-0.09995329],\n",
       "        [-0.23550884],\n",
       "        [-0.14787214],\n",
       "        [ 0.05586242],\n",
       "        [ 0.10910845],\n",
       "        [ 0.04121876],\n",
       "        [ 0.125238  ],\n",
       "        [-0.09241343],\n",
       "        [-0.08996928],\n",
       "        [-0.07380248],\n",
       "        [ 0.20383523],\n",
       "        [ 0.02391254],\n",
       "        [-0.10232484],\n",
       "        [ 0.0300277 ],\n",
       "        [ 0.18284108],\n",
       "        [ 0.06926536],\n",
       "        [-0.13599384],\n",
       "        [ 0.16976228],\n",
       "        [ 0.03834093],\n",
       "        [-0.11597497],\n",
       "        [-0.24160765],\n",
       "        [-0.07214721],\n",
       "        [ 0.00343288],\n",
       "        [ 0.21749388],\n",
       "        [ 0.02185975],\n",
       "        [ 0.06741638],\n",
       "        [ 0.0447624 ],\n",
       "        [ 0.0789545 ],\n",
       "        [ 0.22374949],\n",
       "        [-0.3172112 ],\n",
       "        [-0.16243123],\n",
       "        [-0.01805206],\n",
       "        [ 0.20945774],\n",
       "        [ 0.21633182],\n",
       "        [ 0.21690844],\n",
       "        [-0.23285854],\n",
       "        [-0.11244231],\n",
       "        [-0.30590007],\n",
       "        [-0.33894178],\n",
       "        [-0.32203385],\n",
       "        [-0.07569264],\n",
       "        [ 0.00200155],\n",
       "        [-0.1672271 ],\n",
       "        [-0.0062407 ],\n",
       "        [ 0.08078896],\n",
       "        [ 0.19515474],\n",
       "        [-0.09799392],\n",
       "        [ 0.0412323 ],\n",
       "        [-0.1797592 ],\n",
       "        [-0.01461206]], dtype=float32),\n",
       " array([-0.1501463], dtype=float32)]"
      ]
     },
     "execution_count": 4,
     "metadata": {},
     "output_type": "execute_result"
    }
   ],
   "source": [
    "model.get_weights()"
   ]
  },
  {
   "cell_type": "code",
   "execution_count": 5,
   "metadata": {},
   "outputs": [],
   "source": [
    "# Step 2: Helper Functions\n",
    "# Function to decode reviews\n",
    "def decode_review(encoded_review):\n",
    "    return ' '.join([reverse_word_index.get(i - 3, '?') for i in encoded_review])\n",
    "\n",
    "# Function to preprocess user input\n",
    "def preprocess_text(text):\n",
    "    words = text.lower().split()\n",
    "    encoded_review = [word_index.get(word, 2) + 3 for word in words]\n",
    "    padded_review = sequence.pad_sequences([encoded_review], maxlen=500)\n",
    "    return padded_review"
   ]
  },
  {
   "cell_type": "code",
   "execution_count": 6,
   "metadata": {},
   "outputs": [],
   "source": [
    "### Prediction  function\n",
    "\n",
    "def predict_sentiment(review):\n",
    "    preprocessed_input=preprocess_text(review)\n",
    "\n",
    "    prediction=model.predict(preprocessed_input)\n",
    "\n",
    "    sentiment = 'Positive' if prediction[0][0] > 0.5 else 'Negative'\n",
    "    \n",
    "    return sentiment, prediction[0][0]\n",
    "\n"
   ]
  },
  {
   "cell_type": "code",
   "execution_count": 25,
   "metadata": {},
   "outputs": [
    {
     "name": "stdout",
     "output_type": "stream",
     "text": [
      "\u001b[1m1/1\u001b[0m \u001b[32m━━━━━━━━━━━━━━━━━━━━\u001b[0m\u001b[37m\u001b[0m \u001b[1m0s\u001b[0m 68ms/step\n",
      "Review: This movie was fantastic! The acting was great and the plot was thrilling.\n",
      "Sentiment: Positive\n",
      "Prediction Score: 0.7616285681724548\n"
     ]
    }
   ],
   "source": [
    "# Step 4: User Input and Prediction\n",
    "# Example review for prediction\n",
    "example_review = \"This movie was fantastic! The acting was great and the plot was thrilling.\"\n",
    "\n",
    "sentiment,score=predict_sentiment(example_review)\n",
    "\n",
    "print(f'Review: {example_review}')\n",
    "print(f'Sentiment: {sentiment}')\n",
    "print(f'Prediction Score: {score}')"
   ]
  },
  {
   "cell_type": "code",
   "execution_count": null,
   "metadata": {},
   "outputs": [],
   "source": []
  },
  {
   "cell_type": "code",
   "execution_count": null,
   "metadata": {},
   "outputs": [],
   "source": []
  },
  {
   "cell_type": "code",
   "execution_count": null,
   "metadata": {},
   "outputs": [],
   "source": []
  },
  {
   "cell_type": "code",
   "execution_count": null,
   "metadata": {},
   "outputs": [],
   "source": []
  }
 ],
 "metadata": {
  "kernelspec": {
   "display_name": "base",
   "language": "python",
   "name": "python3"
  },
  "language_info": {
   "codemirror_mode": {
    "name": "ipython",
    "version": 3
   },
   "file_extension": ".py",
   "mimetype": "text/x-python",
   "name": "python",
   "nbconvert_exporter": "python",
   "pygments_lexer": "ipython3",
   "version": "3.12.7"
  }
 },
 "nbformat": 4,
 "nbformat_minor": 2
}
