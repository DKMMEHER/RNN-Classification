{
 "cells": [
  {
   "cell_type": "code",
   "execution_count": 2,
   "metadata": {},
   "outputs": [],
   "source": [
    "from tensorflow.keras.preprocessing.text import one_hot"
   ]
  },
  {
   "cell_type": "code",
   "execution_count": 3,
   "metadata": {},
   "outputs": [],
   "source": [
    "### sentences\n",
    "sent=[  'the glass of milk',\n",
    "     'the glass of juice',\n",
    "     'the cup of tea',\n",
    "    'I am a good boy',\n",
    "     'I am a good developer',\n",
    "     'understand the meaning of words',\n",
    "     'your videos are good',]"
   ]
  },
  {
   "cell_type": "code",
   "execution_count": 4,
   "metadata": {},
   "outputs": [
    {
     "data": {
      "text/plain": [
       "['the glass of milk',\n",
       " 'the glass of juice',\n",
       " 'the cup of tea',\n",
       " 'I am a good boy',\n",
       " 'I am a good developer',\n",
       " 'understand the meaning of words',\n",
       " 'your videos are good']"
      ]
     },
     "execution_count": 4,
     "metadata": {},
     "output_type": "execute_result"
    }
   ],
   "source": [
    "sent"
   ]
  },
  {
   "cell_type": "code",
   "execution_count": 5,
   "metadata": {},
   "outputs": [],
   "source": [
    "## Define the vocabulary size\n",
    "voc_size=10000"
   ]
  },
  {
   "cell_type": "code",
   "execution_count": 6,
   "metadata": {},
   "outputs": [
    {
     "data": {
      "text/plain": [
       "['the glass of milk',\n",
       " 'the glass of juice',\n",
       " 'the cup of tea',\n",
       " 'I am a good boy',\n",
       " 'I am a good developer',\n",
       " 'understand the meaning of words',\n",
       " 'your videos are good']"
      ]
     },
     "execution_count": 6,
     "metadata": {},
     "output_type": "execute_result"
    }
   ],
   "source": [
    "sent"
   ]
  },
  {
   "cell_type": "code",
   "execution_count": 7,
   "metadata": {},
   "outputs": [
    {
     "data": {
      "text/plain": [
       "[[3172, 2830, 3615, 8017],\n",
       " [3172, 2830, 3615, 8051],\n",
       " [3172, 1714, 3615, 9558],\n",
       " [3158, 7984, 7796, 6140, 8816],\n",
       " [3158, 7984, 7796, 6140, 5519],\n",
       " [7834, 3172, 9419, 3615, 3797],\n",
       " [2635, 4748, 3404, 6140]]"
      ]
     },
     "execution_count": 7,
     "metadata": {},
     "output_type": "execute_result"
    }
   ],
   "source": [
    "### One Hot Representation\n",
    "one_hot_repr=[one_hot(words,voc_size)for words in sent]\n",
    "one_hot_repr"
   ]
  },
  {
   "cell_type": "code",
   "execution_count": 8,
   "metadata": {},
   "outputs": [],
   "source": [
    "## word Embedding Representation\n",
    "\n",
    "from tensorflow.keras.layers import Embedding\n",
    "#from tensorflow.keras.processing.sequence import pad_sequences\n",
    "from tensorflow.keras.utils import pad_sequences\n",
    "from tensorflow.keras.models import Sequential"
   ]
  },
  {
   "cell_type": "code",
   "execution_count": 9,
   "metadata": {},
   "outputs": [],
   "source": [
    "import numpy as np"
   ]
  },
  {
   "cell_type": "code",
   "execution_count": 10,
   "metadata": {},
   "outputs": [
    {
     "name": "stdout",
     "output_type": "stream",
     "text": [
      "[[   0    0    0    0 3172 2830 3615 8017]\n",
      " [   0    0    0    0 3172 2830 3615 8051]\n",
      " [   0    0    0    0 3172 1714 3615 9558]\n",
      " [   0    0    0 3158 7984 7796 6140 8816]\n",
      " [   0    0    0 3158 7984 7796 6140 5519]\n",
      " [   0    0    0 7834 3172 9419 3615 3797]\n",
      " [   0    0    0    0 2635 4748 3404 6140]]\n"
     ]
    }
   ],
   "source": [
    "sent_length=8\n",
    "embedded_docs=pad_sequences(one_hot_repr,padding='pre',maxlen=sent_length)\n",
    "print(embedded_docs)"
   ]
  },
  {
   "cell_type": "code",
   "execution_count": 11,
   "metadata": {},
   "outputs": [],
   "source": [
    "## feature representation\n",
    "dim=10"
   ]
  },
  {
   "cell_type": "code",
   "execution_count": 12,
   "metadata": {},
   "outputs": [
    {
     "name": "stderr",
     "output_type": "stream",
     "text": [
      "C:\\Users\\meherdhi\\AppData\\Roaming\\Python\\Python312\\site-packages\\keras\\src\\layers\\core\\embedding.py:90: UserWarning: Argument `input_length` is deprecated. Just remove it.\n",
      "  warnings.warn(\n"
     ]
    }
   ],
   "source": [
    "model=Sequential()\n",
    "model.add(Embedding(voc_size,dim,input_length=sent_length))\n",
    "model.compile('adam','mse')"
   ]
  },
  {
   "cell_type": "code",
   "execution_count": 17,
   "metadata": {},
   "outputs": [
    {
     "data": {
      "text/html": [
       "<pre style=\"white-space:pre;overflow-x:auto;line-height:normal;font-family:Menlo,'DejaVu Sans Mono',consolas,'Courier New',monospace\"><span style=\"font-weight: bold\">Model: \"sequential\"</span>\n",
       "</pre>\n"
      ],
      "text/plain": [
       "\u001b[1mModel: \"sequential\"\u001b[0m\n"
      ]
     },
     "metadata": {},
     "output_type": "display_data"
    },
    {
     "data": {
      "text/html": [
       "<pre style=\"white-space:pre;overflow-x:auto;line-height:normal;font-family:Menlo,'DejaVu Sans Mono',consolas,'Courier New',monospace\">┏━━━━━━━━━━━━━━━━━━━━━━━━━━━━━━━━━┳━━━━━━━━━━━━━━━━━━━━━━━━┳━━━━━━━━━━━━━━━┓\n",
       "┃<span style=\"font-weight: bold\"> Layer (type)                    </span>┃<span style=\"font-weight: bold\"> Output Shape           </span>┃<span style=\"font-weight: bold\">       Param # </span>┃\n",
       "┡━━━━━━━━━━━━━━━━━━━━━━━━━━━━━━━━━╇━━━━━━━━━━━━━━━━━━━━━━━━╇━━━━━━━━━━━━━━━┩\n",
       "│ embedding (<span style=\"color: #0087ff; text-decoration-color: #0087ff\">Embedding</span>)           │ (<span style=\"color: #00af00; text-decoration-color: #00af00\">7</span>, <span style=\"color: #00af00; text-decoration-color: #00af00\">8</span>, <span style=\"color: #00af00; text-decoration-color: #00af00\">10</span>)             │       <span style=\"color: #00af00; text-decoration-color: #00af00\">100,000</span> │\n",
       "└─────────────────────────────────┴────────────────────────┴───────────────┘\n",
       "</pre>\n"
      ],
      "text/plain": [
       "┏━━━━━━━━━━━━━━━━━━━━━━━━━━━━━━━━━┳━━━━━━━━━━━━━━━━━━━━━━━━┳━━━━━━━━━━━━━━━┓\n",
       "┃\u001b[1m \u001b[0m\u001b[1mLayer (type)                   \u001b[0m\u001b[1m \u001b[0m┃\u001b[1m \u001b[0m\u001b[1mOutput Shape          \u001b[0m\u001b[1m \u001b[0m┃\u001b[1m \u001b[0m\u001b[1m      Param #\u001b[0m\u001b[1m \u001b[0m┃\n",
       "┡━━━━━━━━━━━━━━━━━━━━━━━━━━━━━━━━━╇━━━━━━━━━━━━━━━━━━━━━━━━╇━━━━━━━━━━━━━━━┩\n",
       "│ embedding (\u001b[38;5;33mEmbedding\u001b[0m)           │ (\u001b[38;5;34m7\u001b[0m, \u001b[38;5;34m8\u001b[0m, \u001b[38;5;34m10\u001b[0m)             │       \u001b[38;5;34m100,000\u001b[0m │\n",
       "└─────────────────────────────────┴────────────────────────┴───────────────┘\n"
      ]
     },
     "metadata": {},
     "output_type": "display_data"
    },
    {
     "data": {
      "text/html": [
       "<pre style=\"white-space:pre;overflow-x:auto;line-height:normal;font-family:Menlo,'DejaVu Sans Mono',consolas,'Courier New',monospace\"><span style=\"font-weight: bold\"> Total params: </span><span style=\"color: #00af00; text-decoration-color: #00af00\">100,000</span> (390.62 KB)\n",
       "</pre>\n"
      ],
      "text/plain": [
       "\u001b[1m Total params: \u001b[0m\u001b[38;5;34m100,000\u001b[0m (390.62 KB)\n"
      ]
     },
     "metadata": {},
     "output_type": "display_data"
    },
    {
     "data": {
      "text/html": [
       "<pre style=\"white-space:pre;overflow-x:auto;line-height:normal;font-family:Menlo,'DejaVu Sans Mono',consolas,'Courier New',monospace\"><span style=\"font-weight: bold\"> Trainable params: </span><span style=\"color: #00af00; text-decoration-color: #00af00\">100,000</span> (390.62 KB)\n",
       "</pre>\n"
      ],
      "text/plain": [
       "\u001b[1m Trainable params: \u001b[0m\u001b[38;5;34m100,000\u001b[0m (390.62 KB)\n"
      ]
     },
     "metadata": {},
     "output_type": "display_data"
    },
    {
     "data": {
      "text/html": [
       "<pre style=\"white-space:pre;overflow-x:auto;line-height:normal;font-family:Menlo,'DejaVu Sans Mono',consolas,'Courier New',monospace\"><span style=\"font-weight: bold\"> Non-trainable params: </span><span style=\"color: #00af00; text-decoration-color: #00af00\">0</span> (0.00 B)\n",
       "</pre>\n"
      ],
      "text/plain": [
       "\u001b[1m Non-trainable params: \u001b[0m\u001b[38;5;34m0\u001b[0m (0.00 B)\n"
      ]
     },
     "metadata": {},
     "output_type": "display_data"
    }
   ],
   "source": [
    "model.summary()"
   ]
  },
  {
   "cell_type": "code",
   "execution_count": 23,
   "metadata": {},
   "outputs": [
    {
     "name": "stdout",
     "output_type": "stream",
     "text": [
      "\u001b[1m1/1\u001b[0m \u001b[32m━━━━━━━━━━━━━━━━━━━━\u001b[0m\u001b[37m\u001b[0m \u001b[1m0s\u001b[0m 36ms/step\n"
     ]
    },
    {
     "data": {
      "text/plain": [
       "array([[[ 6.01351261e-04,  2.92340256e-02,  2.59028338e-02,\n",
       "         -3.17487270e-02, -4.38124649e-02,  4.30879034e-02,\n",
       "         -1.52413920e-03, -2.01026350e-03, -1.24785081e-02,\n",
       "         -1.58902034e-02],\n",
       "        [ 6.01351261e-04,  2.92340256e-02,  2.59028338e-02,\n",
       "         -3.17487270e-02, -4.38124649e-02,  4.30879034e-02,\n",
       "         -1.52413920e-03, -2.01026350e-03, -1.24785081e-02,\n",
       "         -1.58902034e-02],\n",
       "        [ 6.01351261e-04,  2.92340256e-02,  2.59028338e-02,\n",
       "         -3.17487270e-02, -4.38124649e-02,  4.30879034e-02,\n",
       "         -1.52413920e-03, -2.01026350e-03, -1.24785081e-02,\n",
       "         -1.58902034e-02],\n",
       "        [ 6.01351261e-04,  2.92340256e-02,  2.59028338e-02,\n",
       "         -3.17487270e-02, -4.38124649e-02,  4.30879034e-02,\n",
       "         -1.52413920e-03, -2.01026350e-03, -1.24785081e-02,\n",
       "         -1.58902034e-02],\n",
       "        [-2.74669062e-02, -3.44671309e-04, -2.81926244e-03,\n",
       "          1.70818307e-02,  2.92516388e-02,  1.93588473e-02,\n",
       "         -2.03806516e-02, -1.94618590e-02, -3.84037010e-02,\n",
       "          4.33276966e-03],\n",
       "        [-2.28776820e-02,  4.87981550e-02, -1.63310654e-02,\n",
       "         -7.94883817e-03,  2.52933763e-02,  4.48476933e-02,\n",
       "         -2.83806808e-02, -4.94592898e-02,  4.41598408e-02,\n",
       "          4.92526405e-02],\n",
       "        [ 5.72632998e-04, -3.73253934e-02, -3.19818482e-02,\n",
       "         -4.51133028e-02, -2.31503248e-02, -6.44940138e-03,\n",
       "         -1.81412920e-02, -1.13379732e-02,  1.86164863e-02,\n",
       "          2.34003551e-02],\n",
       "        [-4.23589014e-02,  1.27789266e-02, -3.02957427e-02,\n",
       "          3.56015898e-02, -4.23109643e-02,  1.16621852e-02,\n",
       "         -3.17499787e-02, -4.58092354e-02,  9.09314305e-03,\n",
       "          3.48246135e-02]],\n",
       "\n",
       "       [[ 6.01351261e-04,  2.92340256e-02,  2.59028338e-02,\n",
       "         -3.17487270e-02, -4.38124649e-02,  4.30879034e-02,\n",
       "         -1.52413920e-03, -2.01026350e-03, -1.24785081e-02,\n",
       "         -1.58902034e-02],\n",
       "        [ 6.01351261e-04,  2.92340256e-02,  2.59028338e-02,\n",
       "         -3.17487270e-02, -4.38124649e-02,  4.30879034e-02,\n",
       "         -1.52413920e-03, -2.01026350e-03, -1.24785081e-02,\n",
       "         -1.58902034e-02],\n",
       "        [ 6.01351261e-04,  2.92340256e-02,  2.59028338e-02,\n",
       "         -3.17487270e-02, -4.38124649e-02,  4.30879034e-02,\n",
       "         -1.52413920e-03, -2.01026350e-03, -1.24785081e-02,\n",
       "         -1.58902034e-02],\n",
       "        [ 6.01351261e-04,  2.92340256e-02,  2.59028338e-02,\n",
       "         -3.17487270e-02, -4.38124649e-02,  4.30879034e-02,\n",
       "         -1.52413920e-03, -2.01026350e-03, -1.24785081e-02,\n",
       "         -1.58902034e-02],\n",
       "        [-2.74669062e-02, -3.44671309e-04, -2.81926244e-03,\n",
       "          1.70818307e-02,  2.92516388e-02,  1.93588473e-02,\n",
       "         -2.03806516e-02, -1.94618590e-02, -3.84037010e-02,\n",
       "          4.33276966e-03],\n",
       "        [-2.28776820e-02,  4.87981550e-02, -1.63310654e-02,\n",
       "         -7.94883817e-03,  2.52933763e-02,  4.48476933e-02,\n",
       "         -2.83806808e-02, -4.94592898e-02,  4.41598408e-02,\n",
       "          4.92526405e-02],\n",
       "        [ 5.72632998e-04, -3.73253934e-02, -3.19818482e-02,\n",
       "         -4.51133028e-02, -2.31503248e-02, -6.44940138e-03,\n",
       "         -1.81412920e-02, -1.13379732e-02,  1.86164863e-02,\n",
       "          2.34003551e-02],\n",
       "        [ 4.21735160e-02, -1.28611699e-02, -1.06631592e-03,\n",
       "          3.66046764e-02, -8.99083540e-03, -1.25624761e-02,\n",
       "         -2.51969695e-02, -1.48666501e-02,  4.03527655e-02,\n",
       "          3.49742435e-02]],\n",
       "\n",
       "       [[ 6.01351261e-04,  2.92340256e-02,  2.59028338e-02,\n",
       "         -3.17487270e-02, -4.38124649e-02,  4.30879034e-02,\n",
       "         -1.52413920e-03, -2.01026350e-03, -1.24785081e-02,\n",
       "         -1.58902034e-02],\n",
       "        [ 6.01351261e-04,  2.92340256e-02,  2.59028338e-02,\n",
       "         -3.17487270e-02, -4.38124649e-02,  4.30879034e-02,\n",
       "         -1.52413920e-03, -2.01026350e-03, -1.24785081e-02,\n",
       "         -1.58902034e-02],\n",
       "        [ 6.01351261e-04,  2.92340256e-02,  2.59028338e-02,\n",
       "         -3.17487270e-02, -4.38124649e-02,  4.30879034e-02,\n",
       "         -1.52413920e-03, -2.01026350e-03, -1.24785081e-02,\n",
       "         -1.58902034e-02],\n",
       "        [ 6.01351261e-04,  2.92340256e-02,  2.59028338e-02,\n",
       "         -3.17487270e-02, -4.38124649e-02,  4.30879034e-02,\n",
       "         -1.52413920e-03, -2.01026350e-03, -1.24785081e-02,\n",
       "         -1.58902034e-02],\n",
       "        [-2.74669062e-02, -3.44671309e-04, -2.81926244e-03,\n",
       "          1.70818307e-02,  2.92516388e-02,  1.93588473e-02,\n",
       "         -2.03806516e-02, -1.94618590e-02, -3.84037010e-02,\n",
       "          4.33276966e-03],\n",
       "        [-4.81496006e-03,  1.05899684e-02, -1.12315193e-02,\n",
       "          2.70690434e-02, -2.72947084e-02, -8.20250437e-03,\n",
       "         -1.60781518e-02, -3.71698029e-02,  3.69535796e-02,\n",
       "         -2.89353617e-02],\n",
       "        [ 5.72632998e-04, -3.73253934e-02, -3.19818482e-02,\n",
       "         -4.51133028e-02, -2.31503248e-02, -6.44940138e-03,\n",
       "         -1.81412920e-02, -1.13379732e-02,  1.86164863e-02,\n",
       "          2.34003551e-02],\n",
       "        [-2.73896214e-02,  4.24027480e-02,  1.88570507e-02,\n",
       "         -1.03338249e-02, -7.83520937e-03, -3.51088755e-02,\n",
       "          9.32405144e-03,  1.22258440e-02, -5.84023073e-03,\n",
       "         -3.96637432e-02]],\n",
       "\n",
       "       [[ 6.01351261e-04,  2.92340256e-02,  2.59028338e-02,\n",
       "         -3.17487270e-02, -4.38124649e-02,  4.30879034e-02,\n",
       "         -1.52413920e-03, -2.01026350e-03, -1.24785081e-02,\n",
       "         -1.58902034e-02],\n",
       "        [ 6.01351261e-04,  2.92340256e-02,  2.59028338e-02,\n",
       "         -3.17487270e-02, -4.38124649e-02,  4.30879034e-02,\n",
       "         -1.52413920e-03, -2.01026350e-03, -1.24785081e-02,\n",
       "         -1.58902034e-02],\n",
       "        [ 6.01351261e-04,  2.92340256e-02,  2.59028338e-02,\n",
       "         -3.17487270e-02, -4.38124649e-02,  4.30879034e-02,\n",
       "         -1.52413920e-03, -2.01026350e-03, -1.24785081e-02,\n",
       "         -1.58902034e-02],\n",
       "        [ 1.88708566e-02, -1.83560736e-02, -1.85792446e-02,\n",
       "          3.05112489e-02,  1.78796984e-02, -4.51480262e-02,\n",
       "         -4.25176136e-02, -2.33787186e-02, -5.47009706e-03,\n",
       "         -1.32871270e-02],\n",
       "        [ 3.82633246e-02, -3.95460017e-02,  8.78464431e-04,\n",
       "         -3.30169201e-02,  2.41156481e-02,  4.29210775e-02,\n",
       "          8.47107172e-03, -4.71889041e-02, -3.02056912e-02,\n",
       "         -2.18318775e-03],\n",
       "        [ 4.44335602e-02, -2.23913044e-03,  2.65863277e-02,\n",
       "          2.52939798e-02,  3.66171114e-02,  3.80350612e-02,\n",
       "          3.51555608e-02, -1.21312141e-02,  1.91543438e-02,\n",
       "          2.15791725e-02],\n",
       "        [-2.76737288e-03,  3.97574343e-02, -3.76348272e-02,\n",
       "         -3.90406959e-02,  2.84358747e-02,  2.88620479e-02,\n",
       "          3.20056938e-02,  1.56927221e-02, -3.88237238e-02,\n",
       "          4.62670811e-02],\n",
       "        [ 2.87663080e-02,  2.90641524e-02,  1.32932775e-02,\n",
       "         -2.80165207e-02,  4.82530631e-02, -2.18701251e-02,\n",
       "          3.05603482e-02,  3.50946523e-02, -4.62446474e-02,\n",
       "          2.76924036e-02]],\n",
       "\n",
       "       [[ 6.01351261e-04,  2.92340256e-02,  2.59028338e-02,\n",
       "         -3.17487270e-02, -4.38124649e-02,  4.30879034e-02,\n",
       "         -1.52413920e-03, -2.01026350e-03, -1.24785081e-02,\n",
       "         -1.58902034e-02],\n",
       "        [ 6.01351261e-04,  2.92340256e-02,  2.59028338e-02,\n",
       "         -3.17487270e-02, -4.38124649e-02,  4.30879034e-02,\n",
       "         -1.52413920e-03, -2.01026350e-03, -1.24785081e-02,\n",
       "         -1.58902034e-02],\n",
       "        [ 6.01351261e-04,  2.92340256e-02,  2.59028338e-02,\n",
       "         -3.17487270e-02, -4.38124649e-02,  4.30879034e-02,\n",
       "         -1.52413920e-03, -2.01026350e-03, -1.24785081e-02,\n",
       "         -1.58902034e-02],\n",
       "        [ 1.88708566e-02, -1.83560736e-02, -1.85792446e-02,\n",
       "          3.05112489e-02,  1.78796984e-02, -4.51480262e-02,\n",
       "         -4.25176136e-02, -2.33787186e-02, -5.47009706e-03,\n",
       "         -1.32871270e-02],\n",
       "        [ 3.82633246e-02, -3.95460017e-02,  8.78464431e-04,\n",
       "         -3.30169201e-02,  2.41156481e-02,  4.29210775e-02,\n",
       "          8.47107172e-03, -4.71889041e-02, -3.02056912e-02,\n",
       "         -2.18318775e-03],\n",
       "        [ 4.44335602e-02, -2.23913044e-03,  2.65863277e-02,\n",
       "          2.52939798e-02,  3.66171114e-02,  3.80350612e-02,\n",
       "          3.51555608e-02, -1.21312141e-02,  1.91543438e-02,\n",
       "          2.15791725e-02],\n",
       "        [-2.76737288e-03,  3.97574343e-02, -3.76348272e-02,\n",
       "         -3.90406959e-02,  2.84358747e-02,  2.88620479e-02,\n",
       "          3.20056938e-02,  1.56927221e-02, -3.88237238e-02,\n",
       "          4.62670811e-02],\n",
       "        [ 3.89912166e-02, -1.75017118e-02,  2.20302977e-02,\n",
       "         -1.46488324e-02,  2.03471668e-02, -3.76137383e-02,\n",
       "          3.58419530e-02,  2.07445733e-02, -4.32644486e-02,\n",
       "          4.75563444e-02]],\n",
       "\n",
       "       [[ 6.01351261e-04,  2.92340256e-02,  2.59028338e-02,\n",
       "         -3.17487270e-02, -4.38124649e-02,  4.30879034e-02,\n",
       "         -1.52413920e-03, -2.01026350e-03, -1.24785081e-02,\n",
       "         -1.58902034e-02],\n",
       "        [ 6.01351261e-04,  2.92340256e-02,  2.59028338e-02,\n",
       "         -3.17487270e-02, -4.38124649e-02,  4.30879034e-02,\n",
       "         -1.52413920e-03, -2.01026350e-03, -1.24785081e-02,\n",
       "         -1.58902034e-02],\n",
       "        [ 6.01351261e-04,  2.92340256e-02,  2.59028338e-02,\n",
       "         -3.17487270e-02, -4.38124649e-02,  4.30879034e-02,\n",
       "         -1.52413920e-03, -2.01026350e-03, -1.24785081e-02,\n",
       "         -1.58902034e-02],\n",
       "        [-4.26524542e-02,  1.04004517e-02, -4.64270227e-02,\n",
       "          3.90339755e-02, -1.86209753e-03, -4.71277498e-02,\n",
       "          4.28442620e-02,  3.59604619e-02,  4.01529782e-02,\n",
       "         -1.73494220e-02],\n",
       "        [-2.74669062e-02, -3.44671309e-04, -2.81926244e-03,\n",
       "          1.70818307e-02,  2.92516388e-02,  1.93588473e-02,\n",
       "         -2.03806516e-02, -1.94618590e-02, -3.84037010e-02,\n",
       "          4.33276966e-03],\n",
       "        [ 3.88087519e-02,  2.64505409e-02,  2.15572007e-02,\n",
       "          4.20483686e-02, -1.72518268e-02,  3.08578499e-02,\n",
       "         -3.36360931e-03, -3.03924568e-02,  1.82655491e-02,\n",
       "          3.90228666e-02],\n",
       "        [ 5.72632998e-04, -3.73253934e-02, -3.19818482e-02,\n",
       "         -4.51133028e-02, -2.31503248e-02, -6.44940138e-03,\n",
       "         -1.81412920e-02, -1.13379732e-02,  1.86164863e-02,\n",
       "          2.34003551e-02],\n",
       "        [ 1.01945512e-02, -3.10089476e-02,  2.19815969e-03,\n",
       "         -3.05331349e-02, -4.63674180e-02, -8.82042572e-03,\n",
       "         -2.62744669e-02, -1.43081322e-02,  3.11023630e-02,\n",
       "         -4.13197279e-03]],\n",
       "\n",
       "       [[ 6.01351261e-04,  2.92340256e-02,  2.59028338e-02,\n",
       "         -3.17487270e-02, -4.38124649e-02,  4.30879034e-02,\n",
       "         -1.52413920e-03, -2.01026350e-03, -1.24785081e-02,\n",
       "         -1.58902034e-02],\n",
       "        [ 6.01351261e-04,  2.92340256e-02,  2.59028338e-02,\n",
       "         -3.17487270e-02, -4.38124649e-02,  4.30879034e-02,\n",
       "         -1.52413920e-03, -2.01026350e-03, -1.24785081e-02,\n",
       "         -1.58902034e-02],\n",
       "        [ 6.01351261e-04,  2.92340256e-02,  2.59028338e-02,\n",
       "         -3.17487270e-02, -4.38124649e-02,  4.30879034e-02,\n",
       "         -1.52413920e-03, -2.01026350e-03, -1.24785081e-02,\n",
       "         -1.58902034e-02],\n",
       "        [ 6.01351261e-04,  2.92340256e-02,  2.59028338e-02,\n",
       "         -3.17487270e-02, -4.38124649e-02,  4.30879034e-02,\n",
       "         -1.52413920e-03, -2.01026350e-03, -1.24785081e-02,\n",
       "         -1.58902034e-02],\n",
       "        [-3.18097249e-02, -2.88387183e-02,  6.92453235e-03,\n",
       "         -2.26481557e-02,  2.26938985e-02, -1.67599916e-02,\n",
       "          5.29642031e-03, -4.78036068e-02, -4.58872318e-02,\n",
       "          3.56849320e-02],\n",
       "        [ 1.57039650e-02,  7.93780014e-03,  1.30251385e-02,\n",
       "         -1.18038654e-02, -4.04566526e-03,  4.24561389e-02,\n",
       "         -8.67275149e-03, -1.50898583e-02,  3.01392935e-02,\n",
       "         -6.19404018e-05],\n",
       "        [-2.38133073e-02, -1.40176788e-02,  1.46346167e-03,\n",
       "         -1.97338816e-02,  1.40470155e-02, -3.85790691e-02,\n",
       "          4.76949476e-02, -2.38105301e-02, -4.85816263e-02,\n",
       "          1.07349157e-02],\n",
       "        [-2.76737288e-03,  3.97574343e-02, -3.76348272e-02,\n",
       "         -3.90406959e-02,  2.84358747e-02,  2.88620479e-02,\n",
       "          3.20056938e-02,  1.56927221e-02, -3.88237238e-02,\n",
       "          4.62670811e-02]]], dtype=float32)"
      ]
     },
     "execution_count": 23,
     "metadata": {},
     "output_type": "execute_result"
    }
   ],
   "source": [
    "model.predict(embedded_docs)"
   ]
  },
  {
   "cell_type": "code",
   "execution_count": 22,
   "metadata": {},
   "outputs": [
    {
     "data": {
      "text/plain": [
       "array([   0,    0,    0,    0, 3172, 2830, 3615, 8017])"
      ]
     },
     "execution_count": 22,
     "metadata": {},
     "output_type": "execute_result"
    }
   ],
   "source": [
    "embedded_docs[0]"
   ]
  },
  {
   "cell_type": "code",
   "execution_count": 24,
   "metadata": {},
   "outputs": [
    {
     "ename": "ValueError",
     "evalue": "Exception encountered when calling Sequential.call().\n\n\u001b[1mCannot take the length of shape with unknown rank.\u001b[0m\n\nArguments received by Sequential.call():\n  • inputs=tf.Tensor(shape=<unknown>, dtype=int32)\n  • training=False\n  • mask=None",
     "output_type": "error",
     "traceback": [
      "\u001b[1;31m---------------------------------------------------------------------------\u001b[0m",
      "\u001b[1;31mValueError\u001b[0m                                Traceback (most recent call last)",
      "Cell \u001b[1;32mIn[24], line 1\u001b[0m\n\u001b[1;32m----> 1\u001b[0m model\u001b[38;5;241m.\u001b[39mpredict(embedded_docs[\u001b[38;5;241m0\u001b[39m])\n",
      "File \u001b[1;32m~\\AppData\\Roaming\\Python\\Python312\\site-packages\\keras\\src\\utils\\traceback_utils.py:122\u001b[0m, in \u001b[0;36mfilter_traceback.<locals>.error_handler\u001b[1;34m(*args, **kwargs)\u001b[0m\n\u001b[0;32m    119\u001b[0m     filtered_tb \u001b[38;5;241m=\u001b[39m _process_traceback_frames(e\u001b[38;5;241m.\u001b[39m__traceback__)\n\u001b[0;32m    120\u001b[0m     \u001b[38;5;66;03m# To get the full stack trace, call:\u001b[39;00m\n\u001b[0;32m    121\u001b[0m     \u001b[38;5;66;03m# `keras.config.disable_traceback_filtering()`\u001b[39;00m\n\u001b[1;32m--> 122\u001b[0m     \u001b[38;5;28;01mraise\u001b[39;00m e\u001b[38;5;241m.\u001b[39mwith_traceback(filtered_tb) \u001b[38;5;28;01mfrom\u001b[39;00m \u001b[38;5;28;01mNone\u001b[39;00m\n\u001b[0;32m    123\u001b[0m \u001b[38;5;28;01mfinally\u001b[39;00m:\n\u001b[0;32m    124\u001b[0m     \u001b[38;5;28;01mdel\u001b[39;00m filtered_tb\n",
      "File \u001b[1;32m~\\AppData\\Roaming\\Python\\Python312\\site-packages\\keras\\src\\utils\\traceback_utils.py:122\u001b[0m, in \u001b[0;36mfilter_traceback.<locals>.error_handler\u001b[1;34m(*args, **kwargs)\u001b[0m\n\u001b[0;32m    119\u001b[0m     filtered_tb \u001b[38;5;241m=\u001b[39m _process_traceback_frames(e\u001b[38;5;241m.\u001b[39m__traceback__)\n\u001b[0;32m    120\u001b[0m     \u001b[38;5;66;03m# To get the full stack trace, call:\u001b[39;00m\n\u001b[0;32m    121\u001b[0m     \u001b[38;5;66;03m# `keras.config.disable_traceback_filtering()`\u001b[39;00m\n\u001b[1;32m--> 122\u001b[0m     \u001b[38;5;28;01mraise\u001b[39;00m e\u001b[38;5;241m.\u001b[39mwith_traceback(filtered_tb) \u001b[38;5;28;01mfrom\u001b[39;00m \u001b[38;5;28;01mNone\u001b[39;00m\n\u001b[0;32m    123\u001b[0m \u001b[38;5;28;01mfinally\u001b[39;00m:\n\u001b[0;32m    124\u001b[0m     \u001b[38;5;28;01mdel\u001b[39;00m filtered_tb\n",
      "\u001b[1;31mValueError\u001b[0m: Exception encountered when calling Sequential.call().\n\n\u001b[1mCannot take the length of shape with unknown rank.\u001b[0m\n\nArguments received by Sequential.call():\n  • inputs=tf.Tensor(shape=<unknown>, dtype=int32)\n  • training=False\n  • mask=None"
     ]
    }
   ],
   "source": [
    "model.predict(embedded_docs[0])"
   ]
  },
  {
   "cell_type": "code",
   "execution_count": null,
   "metadata": {},
   "outputs": [],
   "source": []
  }
 ],
 "metadata": {
  "kernelspec": {
   "display_name": "base",
   "language": "python",
   "name": "python3"
  },
  "language_info": {
   "codemirror_mode": {
    "name": "ipython",
    "version": 3
   },
   "file_extension": ".py",
   "mimetype": "text/x-python",
   "name": "python",
   "nbconvert_exporter": "python",
   "pygments_lexer": "ipython3",
   "version": "3.12.7"
  }
 },
 "nbformat": 4,
 "nbformat_minor": 2
}
